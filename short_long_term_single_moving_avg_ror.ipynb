{
 "cells": [
  {
   "cell_type": "code",
   "execution_count": 22,
   "id": "c6e27a19",
   "metadata": {},
   "outputs": [],
   "source": [
    "from pykrx import stock\n",
    "import numpy as np\n",
    "import pandas as pd"
   ]
  },
  {
   "cell_type": "code",
   "execution_count": 2,
   "id": "c383e8bf",
   "metadata": {},
   "outputs": [
    {
     "data": {
      "text/html": [
       "<div>\n",
       "<style scoped>\n",
       "    .dataframe tbody tr th:only-of-type {\n",
       "        vertical-align: middle;\n",
       "    }\n",
       "\n",
       "    .dataframe tbody tr th {\n",
       "        vertical-align: top;\n",
       "    }\n",
       "\n",
       "    .dataframe thead th {\n",
       "        text-align: right;\n",
       "    }\n",
       "</style>\n",
       "<table border=\"1\" class=\"dataframe\">\n",
       "  <thead>\n",
       "    <tr style=\"text-align: right;\">\n",
       "      <th>코스피</th>\n",
       "      <th>종가</th>\n",
       "    </tr>\n",
       "    <tr>\n",
       "      <th>날짜</th>\n",
       "      <th></th>\n",
       "    </tr>\n",
       "  </thead>\n",
       "  <tbody>\n",
       "    <tr>\n",
       "      <th>2020-01-02</th>\n",
       "      <td>2175.17</td>\n",
       "    </tr>\n",
       "    <tr>\n",
       "      <th>2020-01-03</th>\n",
       "      <td>2176.46</td>\n",
       "    </tr>\n",
       "    <tr>\n",
       "      <th>2020-01-06</th>\n",
       "      <td>2155.07</td>\n",
       "    </tr>\n",
       "    <tr>\n",
       "      <th>2020-01-07</th>\n",
       "      <td>2175.54</td>\n",
       "    </tr>\n",
       "    <tr>\n",
       "      <th>2020-01-08</th>\n",
       "      <td>2151.31</td>\n",
       "    </tr>\n",
       "  </tbody>\n",
       "</table>\n",
       "</div>"
      ],
      "text/plain": [
       "코스피              종가\n",
       "날짜                 \n",
       "2020-01-02  2175.17\n",
       "2020-01-03  2176.46\n",
       "2020-01-06  2155.07\n",
       "2020-01-07  2175.54\n",
       "2020-01-08  2151.31"
      ]
     },
     "execution_count": 2,
     "metadata": {},
     "output_type": "execute_result"
    }
   ],
   "source": [
    "df = stock.get_index_ohlcv_by_date(\"20200101\",\"20200831\",\"1001\")\n",
    "df = df[ [ '종가' ] ]\n",
    "df.head()"
   ]
  },
  {
   "cell_type": "markdown",
   "id": "fce8c31b",
   "metadata": {},
   "source": [
    "# 이평선 매매\n",
    "이평선을 돌파하면 매수 / 그렇지 않으면 매도"
   ]
  },
  {
   "cell_type": "code",
   "execution_count": 3,
   "id": "4b546f15",
   "metadata": {},
   "outputs": [
    {
     "data": {
      "text/html": [
       "<div>\n",
       "<style scoped>\n",
       "    .dataframe tbody tr th:only-of-type {\n",
       "        vertical-align: middle;\n",
       "    }\n",
       "\n",
       "    .dataframe tbody tr th {\n",
       "        vertical-align: top;\n",
       "    }\n",
       "\n",
       "    .dataframe thead th {\n",
       "        text-align: right;\n",
       "    }\n",
       "</style>\n",
       "<table border=\"1\" class=\"dataframe\">\n",
       "  <thead>\n",
       "    <tr style=\"text-align: right;\">\n",
       "      <th>코스피</th>\n",
       "      <th>종가</th>\n",
       "      <th>ma</th>\n",
       "    </tr>\n",
       "    <tr>\n",
       "      <th>날짜</th>\n",
       "      <th></th>\n",
       "      <th></th>\n",
       "    </tr>\n",
       "  </thead>\n",
       "  <tbody>\n",
       "    <tr>\n",
       "      <th>2020-01-02</th>\n",
       "      <td>2175.17</td>\n",
       "      <td>NaN</td>\n",
       "    </tr>\n",
       "    <tr>\n",
       "      <th>2020-01-03</th>\n",
       "      <td>2176.46</td>\n",
       "      <td>NaN</td>\n",
       "    </tr>\n",
       "    <tr>\n",
       "      <th>2020-01-06</th>\n",
       "      <td>2155.07</td>\n",
       "      <td>NaN</td>\n",
       "    </tr>\n",
       "    <tr>\n",
       "      <th>2020-01-07</th>\n",
       "      <td>2175.54</td>\n",
       "      <td>2168.900000</td>\n",
       "    </tr>\n",
       "    <tr>\n",
       "      <th>2020-01-08</th>\n",
       "      <td>2151.31</td>\n",
       "      <td>2169.023333</td>\n",
       "    </tr>\n",
       "  </tbody>\n",
       "</table>\n",
       "</div>"
      ],
      "text/plain": [
       "코스피              종가           ma\n",
       "날짜                              \n",
       "2020-01-02  2175.17          NaN\n",
       "2020-01-03  2176.46          NaN\n",
       "2020-01-06  2155.07          NaN\n",
       "2020-01-07  2175.54  2168.900000\n",
       "2020-01-08  2151.31  2169.023333"
      ]
     },
     "execution_count": 3,
     "metadata": {},
     "output_type": "execute_result"
    }
   ],
   "source": [
    "df['ma'] = df['종가'].rolling(3).mean().shift(1)\n",
    "df.head()"
   ]
  },
  {
   "cell_type": "code",
   "execution_count": 4,
   "id": "7a4b9f4b",
   "metadata": {},
   "outputs": [
    {
     "data": {
      "text/html": [
       "<div>\n",
       "<style scoped>\n",
       "    .dataframe tbody tr th:only-of-type {\n",
       "        vertical-align: middle;\n",
       "    }\n",
       "\n",
       "    .dataframe tbody tr th {\n",
       "        vertical-align: top;\n",
       "    }\n",
       "\n",
       "    .dataframe thead th {\n",
       "        text-align: right;\n",
       "    }\n",
       "</style>\n",
       "<table border=\"1\" class=\"dataframe\">\n",
       "  <thead>\n",
       "    <tr style=\"text-align: right;\">\n",
       "      <th>코스피</th>\n",
       "      <th>종가</th>\n",
       "      <th>ma</th>\n",
       "      <th>status</th>\n",
       "    </tr>\n",
       "    <tr>\n",
       "      <th>날짜</th>\n",
       "      <th></th>\n",
       "      <th></th>\n",
       "      <th></th>\n",
       "    </tr>\n",
       "  </thead>\n",
       "  <tbody>\n",
       "    <tr>\n",
       "      <th>2020-08-25</th>\n",
       "      <td>2366.73</td>\n",
       "      <td>2302.880000</td>\n",
       "      <td>1</td>\n",
       "    </tr>\n",
       "    <tr>\n",
       "      <th>2020-08-26</th>\n",
       "      <td>2369.32</td>\n",
       "      <td>2333.716667</td>\n",
       "      <td>1</td>\n",
       "    </tr>\n",
       "    <tr>\n",
       "      <th>2020-08-27</th>\n",
       "      <td>2344.45</td>\n",
       "      <td>2355.293333</td>\n",
       "      <td>0</td>\n",
       "    </tr>\n",
       "    <tr>\n",
       "      <th>2020-08-28</th>\n",
       "      <td>2353.80</td>\n",
       "      <td>2360.166667</td>\n",
       "      <td>0</td>\n",
       "    </tr>\n",
       "    <tr>\n",
       "      <th>2020-08-31</th>\n",
       "      <td>2326.17</td>\n",
       "      <td>2355.856667</td>\n",
       "      <td>0</td>\n",
       "    </tr>\n",
       "  </tbody>\n",
       "</table>\n",
       "</div>"
      ],
      "text/plain": [
       "코스피              종가           ma  status\n",
       "날짜                                      \n",
       "2020-08-25  2366.73  2302.880000       1\n",
       "2020-08-26  2369.32  2333.716667       1\n",
       "2020-08-27  2344.45  2355.293333       0\n",
       "2020-08-28  2353.80  2360.166667       0\n",
       "2020-08-31  2326.17  2355.856667       0"
      ]
     },
     "execution_count": 4,
     "metadata": {},
     "output_type": "execute_result"
    }
   ],
   "source": [
    "cond = df['종가'] > df['ma']\n",
    "df['status'] = np.where(cond, 1, 0)\n",
    "\n",
    "# status 1 : 종가가 이동평균보다 크기 때문에 당일 매수\n",
    "# status 0 : 종가가 이동평균보다 작기 때문에 당일 매도\n",
    "\n",
    "df.iloc[-1,-1] = 0\n",
    "df.tail()"
   ]
  },
  {
   "cell_type": "code",
   "execution_count": 5,
   "id": "f873cd38",
   "metadata": {},
   "outputs": [],
   "source": [
    "buy_condition = (df['status'] == 1) & (df['status'].shift(1) != 1)\n",
    "sell_condition = (df['status'] == 0) & (df['status'].shift(1) == 1)"
   ]
  },
  {
   "cell_type": "code",
   "execution_count": 6,
   "id": "a3f970ca",
   "metadata": {},
   "outputs": [
    {
     "data": {
      "text/html": [
       "<div>\n",
       "<style scoped>\n",
       "    .dataframe tbody tr th:only-of-type {\n",
       "        vertical-align: middle;\n",
       "    }\n",
       "\n",
       "    .dataframe tbody tr th {\n",
       "        vertical-align: top;\n",
       "    }\n",
       "\n",
       "    .dataframe thead th {\n",
       "        text-align: right;\n",
       "    }\n",
       "</style>\n",
       "<table border=\"1\" class=\"dataframe\">\n",
       "  <thead>\n",
       "    <tr style=\"text-align: right;\">\n",
       "      <th>코스피</th>\n",
       "      <th>종가</th>\n",
       "      <th>ma</th>\n",
       "      <th>status</th>\n",
       "    </tr>\n",
       "    <tr>\n",
       "      <th>날짜</th>\n",
       "      <th></th>\n",
       "      <th></th>\n",
       "      <th></th>\n",
       "    </tr>\n",
       "  </thead>\n",
       "  <tbody>\n",
       "    <tr>\n",
       "      <th>2020-01-07</th>\n",
       "      <td>2175.54</td>\n",
       "      <td>2168.900000</td>\n",
       "      <td>1</td>\n",
       "    </tr>\n",
       "    <tr>\n",
       "      <th>2020-01-09</th>\n",
       "      <td>2186.45</td>\n",
       "      <td>2160.640000</td>\n",
       "      <td>1</td>\n",
       "    </tr>\n",
       "    <tr>\n",
       "      <th>2020-01-22</th>\n",
       "      <td>2267.25</td>\n",
       "      <td>2250.966667</td>\n",
       "      <td>1</td>\n",
       "    </tr>\n",
       "    <tr>\n",
       "      <th>2020-02-04</th>\n",
       "      <td>2157.90</td>\n",
       "      <td>2128.630000</td>\n",
       "      <td>1</td>\n",
       "    </tr>\n",
       "    <tr>\n",
       "      <th>2020-02-11</th>\n",
       "      <td>2223.12</td>\n",
       "      <td>2213.653333</td>\n",
       "      <td>1</td>\n",
       "    </tr>\n",
       "  </tbody>\n",
       "</table>\n",
       "</div>"
      ],
      "text/plain": [
       "코스피              종가           ma  status\n",
       "날짜                                      \n",
       "2020-01-07  2175.54  2168.900000       1\n",
       "2020-01-09  2186.45  2160.640000       1\n",
       "2020-01-22  2267.25  2250.966667       1\n",
       "2020-02-04  2157.90  2128.630000       1\n",
       "2020-02-11  2223.12  2213.653333       1"
      ]
     },
     "execution_count": 6,
     "metadata": {},
     "output_type": "execute_result"
    }
   ],
   "source": [
    "df[buy_condition].head()"
   ]
  },
  {
   "cell_type": "code",
   "execution_count": 7,
   "id": "fe457c20",
   "metadata": {},
   "outputs": [
    {
     "data": {
      "text/html": [
       "<div>\n",
       "<style scoped>\n",
       "    .dataframe tbody tr th:only-of-type {\n",
       "        vertical-align: middle;\n",
       "    }\n",
       "\n",
       "    .dataframe tbody tr th {\n",
       "        vertical-align: top;\n",
       "    }\n",
       "\n",
       "    .dataframe thead th {\n",
       "        text-align: right;\n",
       "    }\n",
       "</style>\n",
       "<table border=\"1\" class=\"dataframe\">\n",
       "  <thead>\n",
       "    <tr style=\"text-align: right;\">\n",
       "      <th>코스피</th>\n",
       "      <th>종가</th>\n",
       "      <th>ma</th>\n",
       "      <th>status</th>\n",
       "    </tr>\n",
       "    <tr>\n",
       "      <th>날짜</th>\n",
       "      <th></th>\n",
       "      <th></th>\n",
       "      <th></th>\n",
       "    </tr>\n",
       "  </thead>\n",
       "  <tbody>\n",
       "    <tr>\n",
       "      <th>2020-01-08</th>\n",
       "      <td>2151.31</td>\n",
       "      <td>2169.023333</td>\n",
       "      <td>0</td>\n",
       "    </tr>\n",
       "    <tr>\n",
       "      <th>2020-01-21</th>\n",
       "      <td>2239.69</td>\n",
       "      <td>2253.753333</td>\n",
       "      <td>0</td>\n",
       "    </tr>\n",
       "    <tr>\n",
       "      <th>2020-01-23</th>\n",
       "      <td>2246.13</td>\n",
       "      <td>2256.526667</td>\n",
       "      <td>0</td>\n",
       "    </tr>\n",
       "    <tr>\n",
       "      <th>2020-02-10</th>\n",
       "      <td>2201.07</td>\n",
       "      <td>2201.840000</td>\n",
       "      <td>0</td>\n",
       "    </tr>\n",
       "    <tr>\n",
       "      <th>2020-02-18</th>\n",
       "      <td>2208.88</td>\n",
       "      <td>2239.573333</td>\n",
       "      <td>0</td>\n",
       "    </tr>\n",
       "  </tbody>\n",
       "</table>\n",
       "</div>"
      ],
      "text/plain": [
       "코스피              종가           ma  status\n",
       "날짜                                      \n",
       "2020-01-08  2151.31  2169.023333       0\n",
       "2020-01-21  2239.69  2253.753333       0\n",
       "2020-01-23  2246.13  2256.526667       0\n",
       "2020-02-10  2201.07  2201.840000       0\n",
       "2020-02-18  2208.88  2239.573333       0"
      ]
     },
     "execution_count": 7,
     "metadata": {},
     "output_type": "execute_result"
    }
   ],
   "source": [
    "df[sell_condition].head()"
   ]
  },
  {
   "cell_type": "code",
   "execution_count": 8,
   "id": "208f1102",
   "metadata": {},
   "outputs": [
    {
     "data": {
      "text/plain": [
       "1.2623991181070566"
      ]
     },
     "execution_count": 8,
     "metadata": {},
     "output_type": "execute_result"
    }
   ],
   "source": [
    "ROR = df.loc[sell_condition, '종가'].reset_index(drop=True) / df.loc[buy_condition, '종가'].reset_index(drop=True)\n",
    "ROR.cumprod().iloc[-1]"
   ]
  },
  {
   "cell_type": "code",
   "execution_count": 13,
   "id": "7f5a04a1",
   "metadata": {},
   "outputs": [],
   "source": [
    "def single_moving_avg_ror(df, N):\n",
    "    df = df[ [ '종가' ] ].copy()\n",
    "    df['ma'] = df['종가'].rolling(N).mean().shift(1)\n",
    "    cond = df['종가'] > df['ma']\n",
    "    df['status'] = np.where(cond, 1, 0)\n",
    "    df.iloc[-1,-1] = 0\n",
    "    buy_condition = (df['status'] == 1) & (df['status'].shift(1) != 1)\n",
    "    sell_condition = (df['status'] == 0) & (df['status'].shift(1) == 1)\n",
    "    ROR = df.loc[sell_condition, '종가'].reset_index(drop=True) / df.loc[buy_condition, '종가'].reset_index(drop=True)\n",
    "    ROR = ROR - 0.002\n",
    "    return ROR.cumprod().iloc[-1]"
   ]
  },
  {
   "cell_type": "code",
   "execution_count": 14,
   "id": "0ae47501",
   "metadata": {},
   "outputs": [
    {
     "data": {
      "text/plain": [
       "1.2037220606995058"
      ]
     },
     "execution_count": 14,
     "metadata": {},
     "output_type": "execute_result"
    }
   ],
   "source": [
    "single_moving_avg_ror(df,3)"
   ]
  },
  {
   "cell_type": "code",
   "execution_count": 15,
   "id": "8e1f834f",
   "metadata": {},
   "outputs": [
    {
     "data": {
      "text/plain": [
       "[1.1493870023456916,\n",
       " 1.2037220606995058,\n",
       " 1.2038328802423408,\n",
       " 1.2046567097489385,\n",
       " 1.1839309166834184,\n",
       " 1.2649700027492599,\n",
       " 1.1797441908499853,\n",
       " 1.1412173907712506,\n",
       " 1.1597331186799331,\n",
       " 1.1581282012211667,\n",
       " 1.1337138783909562,\n",
       " 1.1490233526383538,\n",
       " 1.131429110618971,\n",
       " 1.128879553500952,\n",
       " 1.113899121145533,\n",
       " 1.0996269047588507,\n",
       " 1.1099622829314606,\n",
       " 1.1829775011837143,\n",
       " 1.1147937429283397,\n",
       " 1.111827877376218,\n",
       " 1.111827877376218,\n",
       " 1.1567624058925778,\n",
       " 1.1798151369736767,\n",
       " 1.1856587261101108,\n",
       " 1.1738752948827234,\n",
       " 1.145541392877251,\n",
       " 1.1381925184914443,\n",
       " 1.2325322181955296,\n",
       " 1.2445356648445816,\n",
       " 1.2546410058199584,\n",
       " 1.2538106045339144,\n",
       " 1.2648322250722956,\n",
       " 1.2648322250722956,\n",
       " 1.2481585424840114,\n",
       " 1.22461075069128,\n",
       " 1.22461075069128,\n",
       " 1.2505954724621449,\n",
       " 1.2505954724621449,\n",
       " 1.2506022174716085,\n",
       " 1.2130083832585543,\n",
       " 1.2130083832585543,\n",
       " 1.2130083832585543,\n",
       " 1.2130083832585543,\n",
       " 1.2130083832585543,\n",
       " 1.1998497086357418,\n",
       " 1.1998497086357418,\n",
       " 1.211991819513256,\n",
       " 1.211991819513256,\n",
       " 1.2128814715390681,\n",
       " 1.18916184235758,\n",
       " 1.18916184235758,\n",
       " 1.18916184235758,\n",
       " 1.207801484316897,\n",
       " 1.184478247728076,\n",
       " 1.184478247728076,\n",
       " 1.184478247728076,\n",
       " 1.177531542390069,\n",
       " 1.177531542390069,\n",
       " 1.177531542390069]"
      ]
     },
     "execution_count": 15,
     "metadata": {},
     "output_type": "execute_result"
    }
   ],
   "source": [
    "index = range(2,61)\n",
    "result = [single_moving_avg_ror(df,x) for x in index]\n",
    "result"
   ]
  },
  {
   "cell_type": "code",
   "execution_count": 17,
   "id": "b8e9cedd",
   "metadata": {},
   "outputs": [
    {
     "data": {
      "text/plain": [
       "7     1.264970\n",
       "34    1.264832\n",
       "33    1.264832\n",
       "31    1.254641\n",
       "32    1.253811\n",
       "dtype: float64"
      ]
     },
     "execution_count": 17,
     "metadata": {},
     "output_type": "execute_result"
    }
   ],
   "source": [
    "from pandas import Series\n",
    "s = Series(result, index)\n",
    "s.sort_values(ascending=False).head()"
   ]
  },
  {
   "cell_type": "code",
   "execution_count": 20,
   "id": "5cc58e01",
   "metadata": {},
   "outputs": [],
   "source": [
    "# 이동평균 계산\n",
    "def short_long_single_moving_avg_ror(df,Ns,Nl):\n",
    "    df = df[ [ '종가' ] ].copy()\n",
    "    df['ma_s'] = df['종가'].rolling(Ns).mean().shift(1)\n",
    "    df['ma_l'] = df['종가'].rolling(Nl).mean().shift(1)\n",
    "    \n",
    "    cond = (df['ma_s'] > df['ma_l']) & (df['ma_l'].pct_change() > 0)\n",
    "    df['status'] = np.where(cond, 1, 0)\n",
    "    df.iloc[-1,-1] = 0\n",
    "    \n",
    "    buy_condition = (df['status'] == 1) & (df['status'].shift(1) != 1)\n",
    "    sell_condition = (df['status'] == 0) & (df['status'].shift(1) == 1)\n",
    "    \n",
    "    ROR = df.loc[sell_condition, '종가'].reset_index(drop=True) / df.loc[buy_condition, '종가'].reset_index(drop=True)\n",
    "    ROR = ROR - 0.002\n",
    "    return ROR.cumprod().iloc[-1]"
   ]
  },
  {
   "cell_type": "code",
   "execution_count": 21,
   "id": "4b94b841",
   "metadata": {},
   "outputs": [
    {
     "data": {
      "text/plain": [
       "1.1894497583801074"
      ]
     },
     "execution_count": 21,
     "metadata": {},
     "output_type": "execute_result"
    }
   ],
   "source": [
    "short_long_single_moving_avg_ror(df,3,30)"
   ]
  },
  {
   "cell_type": "code",
   "execution_count": 27,
   "id": "b6071fc0",
   "metadata": {},
   "outputs": [
    {
     "name": "stdout",
     "output_type": "stream",
     "text": [
      "(14, 30)\n",
      "1.237183001994187\n"
     ]
    }
   ],
   "source": [
    "# 과체적화\n",
    "result = []\n",
    "for i in range(2,17):\n",
    "    for j in range(30,61):\n",
    "        result.append(short_long_single_moving_avg_ror(df,i,j))\n",
    "    \n",
    "index = pd.MultiIndex.from_product([range(2,17), range(30,61)])\n",
    "s = Series(result, index)\n",
    "print(s.idxmax())\n",
    "print(s.max())"
   ]
  }
 ],
 "metadata": {
  "kernelspec": {
   "display_name": "Python 3 (ipykernel)",
   "language": "python",
   "name": "python3"
  },
  "language_info": {
   "codemirror_mode": {
    "name": "ipython",
    "version": 3
   },
   "file_extension": ".py",
   "mimetype": "text/x-python",
   "name": "python",
   "nbconvert_exporter": "python",
   "pygments_lexer": "ipython3",
   "version": "3.8.5"
  }
 },
 "nbformat": 4,
 "nbformat_minor": 5
}
